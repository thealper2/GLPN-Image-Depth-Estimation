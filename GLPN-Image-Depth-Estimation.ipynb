{
 "cells": [
  {
   "cell_type": "code",
   "execution_count": 12,
   "id": "35bfce92",
   "metadata": {},
   "outputs": [],
   "source": [
    "import torch\n",
    "from PIL import Image\n",
    "import numpy as np\n",
    "import torchvision.transforms.functional as TF\n",
    "import cv2\n",
    "from transformers import GLPNFeatureExtractor, GLPNForDepthEstimation"
   ]
  },
  {
   "cell_type": "code",
   "execution_count": 3,
   "id": "fe16a3a6",
   "metadata": {},
   "outputs": [],
   "source": [
    "model_name = \"vinvino02/glpn-nyu\"\n",
    "feature_extractor = GLPNFeatureExtractor.from_pretrained(model_name)\n",
    "model = GLPNForDepthEstimation.from_pretrained(model_name)"
   ]
  },
  {
   "cell_type": "code",
   "execution_count": 15,
   "id": "bf5ef0cf",
   "metadata": {},
   "outputs": [],
   "source": [
    "image_path = \"/home/alper/Downloads/room-4779953_960_720.jpg\"\n",
    "image = Image.open(image_path)"
   ]
  },
  {
   "cell_type": "code",
   "execution_count": 16,
   "id": "abe857ba",
   "metadata": {},
   "outputs": [],
   "source": [
    "inputs = feature_extractor(images=image, return_tensors=\"pt\")"
   ]
  },
  {
   "cell_type": "code",
   "execution_count": 17,
   "id": "8129d845",
   "metadata": {},
   "outputs": [],
   "source": [
    "with torch.no_grad():\n",
    "    outputs = model(**inputs)"
   ]
  },
  {
   "cell_type": "code",
   "execution_count": 18,
   "id": "40249799",
   "metadata": {},
   "outputs": [
    {
     "name": "stderr",
     "output_type": "stream",
     "text": [
      "/usr/local/lib/python3.11/dist-packages/torchvision/transforms/functional.py:1603: UserWarning: The default value of the antialias parameter of all the resizing transforms (Resize(), RandomResizedCrop(), etc.) will change from None to True in v0.17, in order to be consistent across the PIL and Tensor backends. To suppress this warning, directly pass antialias=True (recommended, future default), antialias=None (current default, which means False for Tensors and True for PIL), or antialias=False (only works on Tensors - PIL will still use antialiasing). This also applies if you are using the inference transforms from the models weights: update the call to weights.transforms(antialias=True).\n",
      "  warnings.warn(\n"
     ]
    }
   ],
   "source": [
    "predicted_depth = outputs[\"predicted_depth\"].squeeze()\n",
    "resized_depth = TF.resize(predicted_depth.unsqueeze(0), image.size[::-1], interpolation=Image.BICUBIC).squeeze()\n",
    "output = resized_depth.cpu().numpy()\n",
    "formatted = (output * 255 / np.max(output)).astype('uint8')\n",
    "depth = Image.fromarray(formatted)\n",
    "depth.show()"
   ]
  },
  {
   "cell_type": "code",
   "execution_count": 19,
   "id": "5a083dac",
   "metadata": {},
   "outputs": [],
   "source": [
    "colored = cv2.applyColorMap(formatted, cv2.COLORMAP_RAINBOW)\n",
    "colored_depth = Image.fromarray(colored)\n",
    "colored_depth.show()"
   ]
  },
  {
   "cell_type": "code",
   "execution_count": null,
   "id": "2ae00da3",
   "metadata": {},
   "outputs": [],
   "source": []
  }
 ],
 "metadata": {
  "kernelspec": {
   "display_name": "Python 3 (ipykernel)",
   "language": "python",
   "name": "python3"
  },
  "language_info": {
   "codemirror_mode": {
    "name": "ipython",
    "version": 3
   },
   "file_extension": ".py",
   "mimetype": "text/x-python",
   "name": "python",
   "nbconvert_exporter": "python",
   "pygments_lexer": "ipython3",
   "version": "3.11.2"
  }
 },
 "nbformat": 4,
 "nbformat_minor": 5
}
